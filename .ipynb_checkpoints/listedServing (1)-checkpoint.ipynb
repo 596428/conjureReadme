{
 "cells": [
  {
   "cell_type": "code",
   "execution_count": 4,
   "id": "cbacb17b-8252-4047-893f-a2137e929e37",
   "metadata": {},
   "outputs": [],
   "source": [
    "import pandas as pd\n",
    "import numpy as np\n",
    "from fastapi import FastAPI\n",
    "import uvicorn\n",
    "import pickle\n",
    "import sklearn\n",
    "from pydantic import BaseModel"
   ]
  },
  {
   "cell_type": "code",
   "execution_count": 5,
   "id": "a5ff2409-397c-4c67-a06a-a1ca336bda77",
   "metadata": {},
   "outputs": [],
   "source": [
    "### 모델 불러오기\n",
    "with open(\"listedDtcore.dump\",\"rb\") as fw:\n",
    "    loadedObjects = pickle.load(fw)\n",
    "groupKeys, models, features, transDict, fuelDict = loadedObjects"
   ]
  },
  {
   "cell_type": "code",
   "execution_count": 11,
   "id": "7846938f-4d2e-43eb-ac17-578814fae2b5",
   "metadata": {},
   "outputs": [],
   "source": [
    "app = FastAPI(title=\"ML API\")"
   ]
  },
  {
   "cell_type": "code",
   "execution_count": 12,
   "id": "54faf9c4-9996-47a5-9184-c4d5dbfa1646",
   "metadata": {},
   "outputs": [],
   "source": [
    "from fastapi.middleware.cors import CORSMiddleware\n",
    "app.add_middleware(\n",
    "    CORSMiddleware,\n",
    "    allow_origins=[\"*\"],  # 모든 출처 허용\n",
    "    allow_credentials=True,\n",
    "    allow_methods=[\"*\"],\n",
    "    allow_headers=[\"*\"],\n",
    ")"
   ]
  },
  {
   "cell_type": "code",
   "execution_count": 13,
   "id": "383e8f9f-1b1a-488f-9814-e44d8ec25464",
   "metadata": {},
   "outputs": [],
   "source": [
    "###라우터 정의\n",
    "@app.get(\"/\")\n",
    "async def root():\n",
    "    try:\n",
    "        return {\"message\":\"server is now running\"}\n",
    "    except Exception as e:\n",
    "        print(\"[ERROR] : \", e)"
   ]
  },
  {
   "cell_type": "code",
   "execution_count": 14,
   "id": "c1e7a398-7557-4c61-ab41-683c38676a07",
   "metadata": {},
   "outputs": [],
   "source": [
    "class inDataset(BaseModel):\n",
    "    brand: str\n",
    "    year: int\n",
    "    mileage: int\n",
    "    tax: float\n",
    "    mpg: float\n",
    "    engineSize : float\n",
    "    LE_fuelType : int\n",
    "    LE_transmission : int"
   ]
  },
  {
   "cell_type": "code",
   "execution_count": 22,
   "id": "b457598d-d06a-45bd-9dc9-9edc2f08effe",
   "metadata": {},
   "outputs": [
    {
     "data": {
      "text/html": [
       "<div>\n",
       "<style scoped>\n",
       "    .dataframe tbody tr th:only-of-type {\n",
       "        vertical-align: middle;\n",
       "    }\n",
       "\n",
       "    .dataframe tbody tr th {\n",
       "        vertical-align: top;\n",
       "    }\n",
       "\n",
       "    .dataframe thead th {\n",
       "        text-align: right;\n",
       "    }\n",
       "</style>\n",
       "<table border=\"1\" class=\"dataframe\">\n",
       "  <thead>\n",
       "    <tr style=\"text-align: right;\">\n",
       "      <th></th>\n",
       "      <th>year</th>\n",
       "      <th>mileage</th>\n",
       "      <th>mpg</th>\n",
       "      <th>engineSize</th>\n",
       "    </tr>\n",
       "  </thead>\n",
       "  <tbody>\n",
       "    <tr>\n",
       "      <th>0</th>\n",
       "      <td>0</td>\n",
       "      <td>0</td>\n",
       "      <td>0</td>\n",
       "      <td>0</td>\n",
       "    </tr>\n",
       "  </tbody>\n",
       "</table>\n",
       "</div>"
      ],
      "text/plain": [
       "   year  mileage  mpg  engineSize\n",
       "0     0        0    0           0"
      ]
     },
     "execution_count": 22,
     "metadata": {},
     "output_type": "execute_result"
    }
   ],
   "source": [
    "#TESTCASE\n",
    "# brand = 'audi'\n",
    "# cols = features[brand]  # 해당 브랜드의 특성 목록 가져오기\n",
    "# row = [getattr(inDataset, col,0) for col in cols]  # 해당 특성의 값들을 리스트로 만들기\n",
    "# testDf = pd.DataFrame([row], columns=cols)  # 행은 1개, 열은 특성 목록\n",
    "# # testDf\n",
    "# testDf"
   ]
  },
  {
   "cell_type": "code",
   "execution_count": 23,
   "id": "f92e737e-caa6-4958-82ac-61271f5380f0",
   "metadata": {},
   "outputs": [],
   "source": [
    "## post 정의 \n",
    "@app.post(\"/predict\", status_code=200)\n",
    "async def predict_tf(x:inDataset):\n",
    "    try:\n",
    "        brand = x.brand\n",
    "        # features를 참조해서, features[brand]에 있는 값들만 포함하는 dataframe 만들어서 testDf에 담기\n",
    "        cols = features[brand]  # 해당 브랜드의 특성 목록 가져오기\n",
    "        row = [getattr(x, col,0) for col in cols]  # 해당 특성의 값들을 리스트로 만들기\n",
    "        testDf = pd.DataFrame([row], columns=cols)\n",
    "        #testDf = pd.DataFrame([[x.year,x.mileage,x.tax,x.mpg,x.engineSize, x.LE_fuelType]])\n",
    "        predictValue = int(models[brand].predict(testDf)[0])\n",
    "        interFaceResult = {\"price\":predictValue}\n",
    "        return interFaceResult\n",
    "    except Exception as e:\n",
    "        print(\"[ERROR] : \", e)"
   ]
  },
  {
   "cell_type": "code",
   "execution_count": null,
   "id": "6e3f6eb1-5ab8-49f5-8844-4a966af723e0",
   "metadata": {},
   "outputs": [
    {
     "name": "stderr",
     "output_type": "stream",
     "text": [
      "INFO:     Will watch for changes in these directories: ['C:\\\\Users\\\\SMART13\\\\Desktop\\\\savefiles\\\\김효관\\\\중간고사_머신러닝\\\\codeset']\n",
      "INFO:     Uvicorn running on http://0.0.0.0:9999 (Press CTRL+C to quit)\n",
      "INFO:     Started reloader process [9192] using WatchFiles\n",
      "WARNING:  WatchFiles detected changes in 'listedServing.py'. Reloading...\n"
     ]
    }
   ],
   "source": [
    "### 서버 구동\n",
    "if __name__ == \"__main__\":\n",
    "    uvicorn.run(\"app:app\", host=\"0.0.0.0\", port=9999, log_level=\"debug\",\n",
    "                proxy_headers=True, reload=True)"
   ]
  }
 ],
 "metadata": {
  "kernelspec": {
   "display_name": "Python 3 (ipykernel)",
   "language": "python",
   "name": "python3"
  },
  "language_info": {
   "codemirror_mode": {
    "name": "ipython",
    "version": 3
   },
   "file_extension": ".py",
   "mimetype": "text/x-python",
   "name": "python",
   "nbconvert_exporter": "python",
   "pygments_lexer": "ipython3",
   "version": "3.10.11"
  }
 },
 "nbformat": 4,
 "nbformat_minor": 5
}
